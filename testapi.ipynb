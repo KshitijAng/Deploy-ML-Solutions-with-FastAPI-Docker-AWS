{
 "cells": [
  {
   "cell_type": "code",
   "execution_count": 2,
   "id": "3df8e3e6-f178-4fd1-8ee7-c3678ca8e876",
   "metadata": {},
   "outputs": [],
   "source": [
    "import requests as rq\n",
    "import json"
   ]
  },
  {
   "cell_type": "markdown",
   "id": "d3f0ae12-2d53-49c9-82c1-d32bdf27513a",
   "metadata": {},
   "source": [
    "# Local API"
   ]
  },
  {
   "cell_type": "code",
   "execution_count": 2,
   "id": "e1691557-8fdd-4370-adc3-e58d8f4c627c",
   "metadata": {},
   "outputs": [
    {
     "name": "stdout",
     "output_type": "stream",
     "text": [
      "CPU times: user 6.68 ms, sys: 4.35 ms, total: 11 ms\n",
      "Wall time: 275 ms\n"
     ]
    }
   ],
   "source": [
    "url = 'http://127.0.0.1:8000/search'\n",
    "query = \"text embeddings simply explained\"\n",
    "\n",
    "# Response = rq.get(url + query)\n",
    "params = {\"query\": query}\n",
    "%time response = rq.get(url,params=params)"
   ]
  },
  {
   "cell_type": "code",
   "execution_count": 3,
   "id": "b889f5ff-9dd3-45ed-9b7e-42eb4ee783c9",
   "metadata": {},
   "outputs": [
    {
     "data": {
      "text/plain": [
       "['Text Embeddings, Classification, and Semantic Search (w/ Python Code)',\n",
       " 'A Practical Introduction to Large Language Models (LLMs)',\n",
       " 'LLMs EXPLAINED in 60 seconds #ai',\n",
       " 'The Hugging Face Transformers Library | Example Code + Chatbot UI with Gradio',\n",
       " 'How to Improve LLMs with RAG (Overview + Python Code)']"
      ]
     },
     "execution_count": 3,
     "metadata": {},
     "output_type": "execute_result"
    }
   ],
   "source": [
    "json.loads(response.text)['title']"
   ]
  },
  {
   "cell_type": "markdown",
   "id": "bf9c61bd-95cf-469c-8eba-01d78c38094c",
   "metadata": {},
   "source": [
    "# (Local) Docker API"
   ]
  },
  {
   "cell_type": "code",
   "execution_count": 2,
   "id": "5855e123-6198-4ec4-87e3-fb7159b40b81",
   "metadata": {},
   "outputs": [
    {
     "name": "stdout",
     "output_type": "stream",
     "text": [
      "CPU times: user 5.94 ms, sys: 3.7 ms, total: 9.65 ms\n",
      "Wall time: 205 ms\n"
     ]
    }
   ],
   "source": [
    "url = 'http://0.0.0.0:8000/search'\n",
    "query = \"text embeddings simply explained\"\n",
    "\n",
    "# Response = rq.get(url + query)\n",
    "params = {\"query\": query}\n",
    "%time response = rq.get(url,params=params)"
   ]
  },
  {
   "cell_type": "code",
   "execution_count": 3,
   "id": "c6ac9275-1a4f-42a5-b674-1c28dfcc8b76",
   "metadata": {},
   "outputs": [
    {
     "data": {
      "text/plain": [
       "['Text Embeddings, Classification, and Semantic Search (w/ Python Code)',\n",
       " 'A Practical Introduction to Large Language Models (LLMs)',\n",
       " 'LLMs EXPLAINED in 60 seconds #ai',\n",
       " 'The Hugging Face Transformers Library | Example Code + Chatbot UI with Gradio',\n",
       " 'How to Improve LLMs with RAG (Overview + Python Code)']"
      ]
     },
     "execution_count": 3,
     "metadata": {},
     "output_type": "execute_result"
    }
   ],
   "source": [
    "json.loads(response.text)['title']"
   ]
  },
  {
   "cell_type": "code",
   "execution_count": 4,
   "id": "2da11c29-d391-493e-b755-58bf4d70ca82",
   "metadata": {},
   "outputs": [
    {
     "data": {
      "text/plain": [
       "'{\"name\":\"yt-search\",\"description\":\"Search API for Shaw Talebi\\'s YouTube videos\"}'"
      ]
     },
     "execution_count": 4,
     "metadata": {},
     "output_type": "execute_result"
    }
   ],
   "source": [
    "rq.get('http://0.0.0.0:8000/info').text"
   ]
  },
  {
   "cell_type": "markdown",
   "id": "b7f76991-e49c-4069-ac88-54daa7f8ef1a",
   "metadata": {},
   "source": [
    "# (AWS) Docker API"
   ]
  },
  {
   "cell_type": "code",
   "execution_count": 17,
   "id": "8b624011-3c35-431c-8f7b-b4015eff2155",
   "metadata": {},
   "outputs": [
    {
     "name": "stdout",
     "output_type": "stream",
     "text": [
      "CPU times: user 4.78 ms, sys: 5.21 ms, total: 9.99 ms\n",
      "Wall time: 864 ms\n"
     ]
    }
   ],
   "source": [
    "import requests as rq\n",
    "\n",
    "url = 'http://<Public ID>:80/search'\n",
    "query = \"text embeddings simply explained\"\n",
    "\n",
    "params = {\"query\": query}\n",
    "%time response = rq.get(url, params=params)"
   ]
  },
  {
   "cell_type": "code",
   "execution_count": 18,
   "id": "eddefc1b-592b-4096-aeeb-16181547f955",
   "metadata": {},
   "outputs": [
    {
     "data": {
      "text/plain": [
       "['Text Embeddings, Classification, and Semantic Search (w/ Python Code)',\n",
       " 'A Practical Introduction to Large Language Models (LLMs)',\n",
       " 'LLMs EXPLAINED in 60 seconds #ai',\n",
       " 'The Hugging Face Transformers Library | Example Code + Chatbot UI with Gradio',\n",
       " 'How to Improve LLMs with RAG (Overview + Python Code)']"
      ]
     },
     "execution_count": 18,
     "metadata": {},
     "output_type": "execute_result"
    }
   ],
   "source": [
    "json.loads(response.text)['title']"
   ]
  }
 ],
 "metadata": {
  "kernelspec": {
   "display_name": "Python 3 (ipykernel)",
   "language": "python",
   "name": "python3"
  },
  "language_info": {
   "codemirror_mode": {
    "name": "ipython",
    "version": 3
   },
   "file_extension": ".py",
   "mimetype": "text/x-python",
   "name": "python",
   "nbconvert_exporter": "python",
   "pygments_lexer": "ipython3",
   "version": "3.11.8"
  }
 },
 "nbformat": 4,
 "nbformat_minor": 5
}
